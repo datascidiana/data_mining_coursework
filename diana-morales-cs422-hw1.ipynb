{
  "nbformat": 4,
  "nbformat_minor": 0,
  "metadata": {
    "colab": {
      "name": "diana-morales-cs422-hw1.ipynb",
      "provenance": [],
      "collapsed_sections": [],
      "toc_visible": true
    },
    "kernelspec": {
      "name": "python3",
      "display_name": "Python 3"
    }
  },
  "cells": [
    {
      "cell_type": "code",
      "metadata": {
        "id": "QwmWwuG2nmRV"
      },
      "source": [
        "import seaborn as sns\n",
        "import numpy as np\n",
        "import pandas as pd\n",
        "from sklearn import datasets\n",
        "import matplotlib.pyplot as plt\n",
        "from sklearn.impute import SimpleImputer\n",
        "from sklearn.decomposition import PCA \n",
        "from sklearn.preprocessing import StandardScaler\n",
        "from sklearn.metrics.pairwise import cosine_similarity\n",
        "%matplotlib inline"
      ],
      "execution_count": 1,
      "outputs": []
    },
    {
      "cell_type": "markdown",
      "metadata": {
        "id": "sifYTDVPGPXK"
      },
      "source": [
        "### Problem 1"
      ]
    },
    {
      "cell_type": "markdown",
      "metadata": {
        "id": "TrxDL_AIJoGn"
      },
      "source": [
        "Loading the titanic sample dataset from the Seaborn library into Python using a Pandas dataframe and visualizing it."
      ]
    },
    {
      "cell_type": "code",
      "metadata": {
        "id": "EH8wXi5An3Rt"
      },
      "source": [
        "titanic = sns.load_dataset(\"titanic\")"
      ],
      "execution_count": 2,
      "outputs": []
    },
    {
      "cell_type": "code",
      "metadata": {
        "colab": {
          "base_uri": "https://localhost:8080/"
        },
        "id": "myPFboD1uNx-",
        "outputId": "ee358fad-3904-40b6-e1bf-22e7b71df083"
      },
      "source": [
        "type(titanic)"
      ],
      "execution_count": 3,
      "outputs": [
        {
          "output_type": "execute_result",
          "data": {
            "text/plain": [
              "pandas.core.frame.DataFrame"
            ]
          },
          "metadata": {
            "tags": []
          },
          "execution_count": 3
        }
      ]
    },
    {
      "cell_type": "code",
      "metadata": {
        "colab": {
          "base_uri": "https://localhost:8080/"
        },
        "id": "3tu5isz4sskR",
        "outputId": "aac8ef13-24bf-4593-cd49-fac8e24c5fff"
      },
      "source": [
        "titanic.info()"
      ],
      "execution_count": 4,
      "outputs": [
        {
          "output_type": "stream",
          "text": [
            "<class 'pandas.core.frame.DataFrame'>\n",
            "RangeIndex: 891 entries, 0 to 890\n",
            "Data columns (total 15 columns):\n",
            " #   Column       Non-Null Count  Dtype   \n",
            "---  ------       --------------  -----   \n",
            " 0   survived     891 non-null    int64   \n",
            " 1   pclass       891 non-null    int64   \n",
            " 2   sex          891 non-null    object  \n",
            " 3   age          714 non-null    float64 \n",
            " 4   sibsp        891 non-null    int64   \n",
            " 5   parch        891 non-null    int64   \n",
            " 6   fare         891 non-null    float64 \n",
            " 7   embarked     889 non-null    object  \n",
            " 8   class        891 non-null    category\n",
            " 9   who          891 non-null    object  \n",
            " 10  adult_male   891 non-null    bool    \n",
            " 11  deck         203 non-null    category\n",
            " 12  embark_town  889 non-null    object  \n",
            " 13  alive        891 non-null    object  \n",
            " 14  alone        891 non-null    bool    \n",
            "dtypes: bool(2), category(2), float64(2), int64(4), object(5)\n",
            "memory usage: 80.6+ KB\n"
          ],
          "name": "stdout"
        }
      ]
    },
    {
      "cell_type": "code",
      "metadata": {
        "colab": {
          "base_uri": "https://localhost:8080/",
          "height": 204
        },
        "id": "SpaeMbHwrPuS",
        "outputId": "c0cc567a-bea6-43f5-b4d8-fc3690ba7056"
      },
      "source": [
        "titanic.head()"
      ],
      "execution_count": 5,
      "outputs": [
        {
          "output_type": "execute_result",
          "data": {
            "text/html": [
              "<div>\n",
              "<style scoped>\n",
              "    .dataframe tbody tr th:only-of-type {\n",
              "        vertical-align: middle;\n",
              "    }\n",
              "\n",
              "    .dataframe tbody tr th {\n",
              "        vertical-align: top;\n",
              "    }\n",
              "\n",
              "    .dataframe thead th {\n",
              "        text-align: right;\n",
              "    }\n",
              "</style>\n",
              "<table border=\"1\" class=\"dataframe\">\n",
              "  <thead>\n",
              "    <tr style=\"text-align: right;\">\n",
              "      <th></th>\n",
              "      <th>survived</th>\n",
              "      <th>pclass</th>\n",
              "      <th>sex</th>\n",
              "      <th>age</th>\n",
              "      <th>sibsp</th>\n",
              "      <th>parch</th>\n",
              "      <th>fare</th>\n",
              "      <th>embarked</th>\n",
              "      <th>class</th>\n",
              "      <th>who</th>\n",
              "      <th>adult_male</th>\n",
              "      <th>deck</th>\n",
              "      <th>embark_town</th>\n",
              "      <th>alive</th>\n",
              "      <th>alone</th>\n",
              "    </tr>\n",
              "  </thead>\n",
              "  <tbody>\n",
              "    <tr>\n",
              "      <th>0</th>\n",
              "      <td>0</td>\n",
              "      <td>3</td>\n",
              "      <td>male</td>\n",
              "      <td>22.0</td>\n",
              "      <td>1</td>\n",
              "      <td>0</td>\n",
              "      <td>7.2500</td>\n",
              "      <td>S</td>\n",
              "      <td>Third</td>\n",
              "      <td>man</td>\n",
              "      <td>True</td>\n",
              "      <td>NaN</td>\n",
              "      <td>Southampton</td>\n",
              "      <td>no</td>\n",
              "      <td>False</td>\n",
              "    </tr>\n",
              "    <tr>\n",
              "      <th>1</th>\n",
              "      <td>1</td>\n",
              "      <td>1</td>\n",
              "      <td>female</td>\n",
              "      <td>38.0</td>\n",
              "      <td>1</td>\n",
              "      <td>0</td>\n",
              "      <td>71.2833</td>\n",
              "      <td>C</td>\n",
              "      <td>First</td>\n",
              "      <td>woman</td>\n",
              "      <td>False</td>\n",
              "      <td>C</td>\n",
              "      <td>Cherbourg</td>\n",
              "      <td>yes</td>\n",
              "      <td>False</td>\n",
              "    </tr>\n",
              "    <tr>\n",
              "      <th>2</th>\n",
              "      <td>1</td>\n",
              "      <td>3</td>\n",
              "      <td>female</td>\n",
              "      <td>26.0</td>\n",
              "      <td>0</td>\n",
              "      <td>0</td>\n",
              "      <td>7.9250</td>\n",
              "      <td>S</td>\n",
              "      <td>Third</td>\n",
              "      <td>woman</td>\n",
              "      <td>False</td>\n",
              "      <td>NaN</td>\n",
              "      <td>Southampton</td>\n",
              "      <td>yes</td>\n",
              "      <td>True</td>\n",
              "    </tr>\n",
              "    <tr>\n",
              "      <th>3</th>\n",
              "      <td>1</td>\n",
              "      <td>1</td>\n",
              "      <td>female</td>\n",
              "      <td>35.0</td>\n",
              "      <td>1</td>\n",
              "      <td>0</td>\n",
              "      <td>53.1000</td>\n",
              "      <td>S</td>\n",
              "      <td>First</td>\n",
              "      <td>woman</td>\n",
              "      <td>False</td>\n",
              "      <td>C</td>\n",
              "      <td>Southampton</td>\n",
              "      <td>yes</td>\n",
              "      <td>False</td>\n",
              "    </tr>\n",
              "    <tr>\n",
              "      <th>4</th>\n",
              "      <td>0</td>\n",
              "      <td>3</td>\n",
              "      <td>male</td>\n",
              "      <td>35.0</td>\n",
              "      <td>0</td>\n",
              "      <td>0</td>\n",
              "      <td>8.0500</td>\n",
              "      <td>S</td>\n",
              "      <td>Third</td>\n",
              "      <td>man</td>\n",
              "      <td>True</td>\n",
              "      <td>NaN</td>\n",
              "      <td>Southampton</td>\n",
              "      <td>no</td>\n",
              "      <td>True</td>\n",
              "    </tr>\n",
              "  </tbody>\n",
              "</table>\n",
              "</div>"
            ],
            "text/plain": [
              "   survived  pclass     sex   age  ...  deck  embark_town  alive  alone\n",
              "0         0       3    male  22.0  ...   NaN  Southampton     no  False\n",
              "1         1       1  female  38.0  ...     C    Cherbourg    yes  False\n",
              "2         1       3  female  26.0  ...   NaN  Southampton    yes   True\n",
              "3         1       1  female  35.0  ...     C  Southampton    yes  False\n",
              "4         0       3    male  35.0  ...   NaN  Southampton     no   True\n",
              "\n",
              "[5 rows x 15 columns]"
            ]
          },
          "metadata": {
            "tags": []
          },
          "execution_count": 5
        }
      ]
    },
    {
      "cell_type": "code",
      "metadata": {
        "colab": {
          "base_uri": "https://localhost:8080/",
          "height": 297
        },
        "id": "Qo6C04lpsOpE",
        "outputId": "15fdfed3-8be1-40b7-c1c8-c47489489c4a"
      },
      "source": [
        "titanic.describe()"
      ],
      "execution_count": 6,
      "outputs": [
        {
          "output_type": "execute_result",
          "data": {
            "text/html": [
              "<div>\n",
              "<style scoped>\n",
              "    .dataframe tbody tr th:only-of-type {\n",
              "        vertical-align: middle;\n",
              "    }\n",
              "\n",
              "    .dataframe tbody tr th {\n",
              "        vertical-align: top;\n",
              "    }\n",
              "\n",
              "    .dataframe thead th {\n",
              "        text-align: right;\n",
              "    }\n",
              "</style>\n",
              "<table border=\"1\" class=\"dataframe\">\n",
              "  <thead>\n",
              "    <tr style=\"text-align: right;\">\n",
              "      <th></th>\n",
              "      <th>survived</th>\n",
              "      <th>pclass</th>\n",
              "      <th>age</th>\n",
              "      <th>sibsp</th>\n",
              "      <th>parch</th>\n",
              "      <th>fare</th>\n",
              "    </tr>\n",
              "  </thead>\n",
              "  <tbody>\n",
              "    <tr>\n",
              "      <th>count</th>\n",
              "      <td>891.000000</td>\n",
              "      <td>891.000000</td>\n",
              "      <td>714.000000</td>\n",
              "      <td>891.000000</td>\n",
              "      <td>891.000000</td>\n",
              "      <td>891.000000</td>\n",
              "    </tr>\n",
              "    <tr>\n",
              "      <th>mean</th>\n",
              "      <td>0.383838</td>\n",
              "      <td>2.308642</td>\n",
              "      <td>29.699118</td>\n",
              "      <td>0.523008</td>\n",
              "      <td>0.381594</td>\n",
              "      <td>32.204208</td>\n",
              "    </tr>\n",
              "    <tr>\n",
              "      <th>std</th>\n",
              "      <td>0.486592</td>\n",
              "      <td>0.836071</td>\n",
              "      <td>14.526497</td>\n",
              "      <td>1.102743</td>\n",
              "      <td>0.806057</td>\n",
              "      <td>49.693429</td>\n",
              "    </tr>\n",
              "    <tr>\n",
              "      <th>min</th>\n",
              "      <td>0.000000</td>\n",
              "      <td>1.000000</td>\n",
              "      <td>0.420000</td>\n",
              "      <td>0.000000</td>\n",
              "      <td>0.000000</td>\n",
              "      <td>0.000000</td>\n",
              "    </tr>\n",
              "    <tr>\n",
              "      <th>25%</th>\n",
              "      <td>0.000000</td>\n",
              "      <td>2.000000</td>\n",
              "      <td>20.125000</td>\n",
              "      <td>0.000000</td>\n",
              "      <td>0.000000</td>\n",
              "      <td>7.910400</td>\n",
              "    </tr>\n",
              "    <tr>\n",
              "      <th>50%</th>\n",
              "      <td>0.000000</td>\n",
              "      <td>3.000000</td>\n",
              "      <td>28.000000</td>\n",
              "      <td>0.000000</td>\n",
              "      <td>0.000000</td>\n",
              "      <td>14.454200</td>\n",
              "    </tr>\n",
              "    <tr>\n",
              "      <th>75%</th>\n",
              "      <td>1.000000</td>\n",
              "      <td>3.000000</td>\n",
              "      <td>38.000000</td>\n",
              "      <td>1.000000</td>\n",
              "      <td>0.000000</td>\n",
              "      <td>31.000000</td>\n",
              "    </tr>\n",
              "    <tr>\n",
              "      <th>max</th>\n",
              "      <td>1.000000</td>\n",
              "      <td>3.000000</td>\n",
              "      <td>80.000000</td>\n",
              "      <td>8.000000</td>\n",
              "      <td>6.000000</td>\n",
              "      <td>512.329200</td>\n",
              "    </tr>\n",
              "  </tbody>\n",
              "</table>\n",
              "</div>"
            ],
            "text/plain": [
              "         survived      pclass         age       sibsp       parch        fare\n",
              "count  891.000000  891.000000  714.000000  891.000000  891.000000  891.000000\n",
              "mean     0.383838    2.308642   29.699118    0.523008    0.381594   32.204208\n",
              "std      0.486592    0.836071   14.526497    1.102743    0.806057   49.693429\n",
              "min      0.000000    1.000000    0.420000    0.000000    0.000000    0.000000\n",
              "25%      0.000000    2.000000   20.125000    0.000000    0.000000    7.910400\n",
              "50%      0.000000    3.000000   28.000000    0.000000    0.000000   14.454200\n",
              "75%      1.000000    3.000000   38.000000    1.000000    0.000000   31.000000\n",
              "max      1.000000    3.000000   80.000000    8.000000    6.000000  512.329200"
            ]
          },
          "metadata": {
            "tags": []
          },
          "execution_count": 6
        }
      ]
    },
    {
      "cell_type": "code",
      "metadata": {
        "colab": {
          "base_uri": "https://localhost:8080/"
        },
        "id": "opfq3ZcgsZ5s",
        "outputId": "786b7c7d-e050-4628-8aa2-895af12825f9"
      },
      "source": [
        "titanic.shape"
      ],
      "execution_count": 7,
      "outputs": [
        {
          "output_type": "execute_result",
          "data": {
            "text/plain": [
              "(891, 15)"
            ]
          },
          "metadata": {
            "tags": []
          },
          "execution_count": 7
        }
      ]
    },
    {
      "cell_type": "code",
      "metadata": {
        "colab": {
          "base_uri": "https://localhost:8080/"
        },
        "id": "fdaayuN-vEK3",
        "outputId": "a00e6729-8378-4df2-943b-81eb530a9cf8"
      },
      "source": [
        "titanic.columns"
      ],
      "execution_count": 8,
      "outputs": [
        {
          "output_type": "execute_result",
          "data": {
            "text/plain": [
              "Index(['survived', 'pclass', 'sex', 'age', 'sibsp', 'parch', 'fare',\n",
              "       'embarked', 'class', 'who', 'adult_male', 'deck', 'embark_town',\n",
              "       'alive', 'alone'],\n",
              "      dtype='object')"
            ]
          },
          "metadata": {
            "tags": []
          },
          "execution_count": 8
        }
      ]
    },
    {
      "cell_type": "code",
      "metadata": {
        "id": "FM_BE4Ao1hc5"
      },
      "source": [
        "titanic = titanic.dropna()"
      ],
      "execution_count": 9,
      "outputs": []
    },
    {
      "cell_type": "code",
      "metadata": {
        "id": "ZWgk_m9B5DiV"
      },
      "source": [
        "labelGroups = titanic[(titanic.survived == 1)].groupby(['sex'])"
      ],
      "execution_count": 10,
      "outputs": []
    },
    {
      "cell_type": "code",
      "metadata": {
        "colab": {
          "base_uri": "https://localhost:8080/",
          "height": 312
        },
        "id": "CjlsyU--6isS",
        "outputId": "ac494fb6-780e-4853-eba7-d6d91ef42b57"
      },
      "source": [
        "labelGroups['age'].hist(alpha=0.4, legend = True, bins = 16)\n",
        "plt.title(\"Survival conditional on age and gender\")\n",
        "plt.xlabel(\"age\")\n",
        "plt.ylabel(\"counts\")"
      ],
      "execution_count": 11,
      "outputs": [
        {
          "output_type": "execute_result",
          "data": {
            "text/plain": [
              "Text(0, 0.5, 'counts')"
            ]
          },
          "metadata": {
            "tags": []
          },
          "execution_count": 11
        },
        {
          "output_type": "display_data",
          "data": {
            "image/png": "[encoded data removed]",
            "text/plain": [
              "<Figure size 432x288 with 1 Axes>"
            ]
          },
          "metadata": {
            "tags": [],
            "needs_background": "light"
          }
        }
      ]
    },
    {
      "cell_type": "markdown",
      "metadata": {
        "id": "9rCEhBRED64o"
      },
      "source": [
        "The plot shows that overall more female passengers survived. If we take age into consideration as well, then we can notice that for children under 5 years old and for elders over 75 years old more males survived. For people in the range 11-63 years old more females survived. These results make sense, because in critical situations females and children are given priority and they were the first ones to occupy the life boats; there also weren't enough life boats for everyone, therefore people left behind, which were mostly male adults, had slimmer chances of survival."
      ]
    },
    {
      "cell_type": "markdown",
      "metadata": {
        "id": "x8MRSOXoGZiQ"
      },
      "source": [
        "### Problem 2"
      ]
    },
    {
      "cell_type": "markdown",
      "metadata": {
        "id": "J75t_GC6KCZb"
      },
      "source": [
        "Loading the auto-mpg sample dataset."
      ]
    },
    {
      "cell_type": "code",
      "metadata": {
        "id": "tJXYZc2KGcCJ"
      },
      "source": [
        "auto_mpg = pd.read_csv(\"auto-mpg.data\", delimiter=r\"\\s+\")"
      ],
      "execution_count": 12,
      "outputs": []
    },
    {
      "cell_type": "code",
      "metadata": {
        "id": "KXHZ_8oOa515",
        "colab": {
          "base_uri": "https://localhost:8080/"
        },
        "outputId": "3c3cc5bd-5d81-4726-d0ae-0351d3c22293"
      },
      "source": [
        "type(auto_mpg)"
      ],
      "execution_count": 13,
      "outputs": [
        {
          "output_type": "execute_result",
          "data": {
            "text/plain": [
              "pandas.core.frame.DataFrame"
            ]
          },
          "metadata": {
            "tags": []
          },
          "execution_count": 13
        }
      ]
    },
    {
      "cell_type": "markdown",
      "metadata": {
        "id": "fdtUt-BmKMia"
      },
      "source": [
        "Adding the column names as columns and the first row of the dataset back after being deleted as a result of these transformations."
      ]
    },
    {
      "cell_type": "code",
      "metadata": {
        "id": "J8pZCVOmb9Oi"
      },
      "source": [
        "auto_mpg.columns = ['mpg','cylinders', 'displacement', 'horsepower', 'weight', 'acceleration', 'model_year', 'origin', 'car_name' ]"
      ],
      "execution_count": 14,
      "outputs": []
    },
    {
      "cell_type": "code",
      "metadata": {
        "id": "dIrWN3uNjqEu"
      },
      "source": [
        "auto_mpg = auto_mpg.append(pd.Series(['18.0','8','307.0','130.0','3504.','12.0','70','1',\"chevrolet chevelle malibu\"], index = auto_mpg.columns), ignore_index=True)"
      ],
      "execution_count": 15,
      "outputs": []
    },
    {
      "cell_type": "code",
      "metadata": {
        "id": "nQ2UVqR-bLSP",
        "colab": {
          "base_uri": "https://localhost:8080/",
          "height": 204
        },
        "outputId": "3873747b-6204-4b0f-953d-dbada67278e7"
      },
      "source": [
        "auto_mpg.head(5)"
      ],
      "execution_count": 16,
      "outputs": [
        {
          "output_type": "execute_result",
          "data": {
            "text/html": [
              "<div>\n",
              "<style scoped>\n",
              "    .dataframe tbody tr th:only-of-type {\n",
              "        vertical-align: middle;\n",
              "    }\n",
              "\n",
              "    .dataframe tbody tr th {\n",
              "        vertical-align: top;\n",
              "    }\n",
              "\n",
              "    .dataframe thead th {\n",
              "        text-align: right;\n",
              "    }\n",
              "</style>\n",
              "<table border=\"1\" class=\"dataframe\">\n",
              "  <thead>\n",
              "    <tr style=\"text-align: right;\">\n",
              "      <th></th>\n",
              "      <th>mpg</th>\n",
              "      <th>cylinders</th>\n",
              "      <th>displacement</th>\n",
              "      <th>horsepower</th>\n",
              "      <th>weight</th>\n",
              "      <th>acceleration</th>\n",
              "      <th>model_year</th>\n",
              "      <th>origin</th>\n",
              "      <th>car_name</th>\n",
              "    </tr>\n",
              "  </thead>\n",
              "  <tbody>\n",
              "    <tr>\n",
              "      <th>0</th>\n",
              "      <td>15</td>\n",
              "      <td>8</td>\n",
              "      <td>350</td>\n",
              "      <td>165.0</td>\n",
              "      <td>3693</td>\n",
              "      <td>11.5</td>\n",
              "      <td>70</td>\n",
              "      <td>1</td>\n",
              "      <td>buick skylark 320</td>\n",
              "    </tr>\n",
              "    <tr>\n",
              "      <th>1</th>\n",
              "      <td>18</td>\n",
              "      <td>8</td>\n",
              "      <td>318</td>\n",
              "      <td>150.0</td>\n",
              "      <td>3436</td>\n",
              "      <td>11</td>\n",
              "      <td>70</td>\n",
              "      <td>1</td>\n",
              "      <td>plymouth satellite</td>\n",
              "    </tr>\n",
              "    <tr>\n",
              "      <th>2</th>\n",
              "      <td>16</td>\n",
              "      <td>8</td>\n",
              "      <td>304</td>\n",
              "      <td>150.0</td>\n",
              "      <td>3433</td>\n",
              "      <td>12</td>\n",
              "      <td>70</td>\n",
              "      <td>1</td>\n",
              "      <td>amc rebel sst</td>\n",
              "    </tr>\n",
              "    <tr>\n",
              "      <th>3</th>\n",
              "      <td>17</td>\n",
              "      <td>8</td>\n",
              "      <td>302</td>\n",
              "      <td>140.0</td>\n",
              "      <td>3449</td>\n",
              "      <td>10.5</td>\n",
              "      <td>70</td>\n",
              "      <td>1</td>\n",
              "      <td>ford torino</td>\n",
              "    </tr>\n",
              "    <tr>\n",
              "      <th>4</th>\n",
              "      <td>15</td>\n",
              "      <td>8</td>\n",
              "      <td>429</td>\n",
              "      <td>198.0</td>\n",
              "      <td>4341</td>\n",
              "      <td>10</td>\n",
              "      <td>70</td>\n",
              "      <td>1</td>\n",
              "      <td>ford galaxie 500</td>\n",
              "    </tr>\n",
              "  </tbody>\n",
              "</table>\n",
              "</div>"
            ],
            "text/plain": [
              "  mpg cylinders displacement  ... model_year origin            car_name\n",
              "0  15         8          350  ...         70      1   buick skylark 320\n",
              "1  18         8          318  ...         70      1  plymouth satellite\n",
              "2  16         8          304  ...         70      1       amc rebel sst\n",
              "3  17         8          302  ...         70      1         ford torino\n",
              "4  15         8          429  ...         70      1    ford galaxie 500\n",
              "\n",
              "[5 rows x 9 columns]"
            ]
          },
          "metadata": {
            "tags": []
          },
          "execution_count": 16
        }
      ]
    },
    {
      "cell_type": "code",
      "metadata": {
        "id": "ycLHkTVTbPn_",
        "colab": {
          "base_uri": "https://localhost:8080/"
        },
        "outputId": "172d9fc2-d4e8-4460-cdc8-a7ab4fd669eb"
      },
      "source": [
        "auto_mpg.info()"
      ],
      "execution_count": 17,
      "outputs": [
        {
          "output_type": "stream",
          "text": [
            "<class 'pandas.core.frame.DataFrame'>\n",
            "RangeIndex: 398 entries, 0 to 397\n",
            "Data columns (total 9 columns):\n",
            " #   Column        Non-Null Count  Dtype \n",
            "---  ------        --------------  ----- \n",
            " 0   mpg           398 non-null    object\n",
            " 1   cylinders     398 non-null    object\n",
            " 2   displacement  398 non-null    object\n",
            " 3   horsepower    398 non-null    object\n",
            " 4   weight        398 non-null    object\n",
            " 5   acceleration  398 non-null    object\n",
            " 6   model_year    398 non-null    object\n",
            " 7   origin        398 non-null    object\n",
            " 8   car_name      398 non-null    object\n",
            "dtypes: object(9)\n",
            "memory usage: 28.1+ KB\n"
          ],
          "name": "stdout"
        }
      ]
    },
    {
      "cell_type": "markdown",
      "metadata": {
        "id": "STPCTNrHKf1r"
      },
      "source": [
        "Replacing '?' with a NaN from NumPy in columns 'horsepower', and calculating summary statistics for each numerical column."
      ]
    },
    {
      "cell_type": "code",
      "metadata": {
        "id": "iH48mW0GDk6D",
        "colab": {
          "base_uri": "https://localhost:8080/"
        },
        "outputId": "d19d82b5-8838-4c33-93b0-3af60bbddf71"
      },
      "source": [
        "#there are 0 rows with NaN values in 'horsepower' column\n",
        "auto_mpg[auto_mpg['horsepower'].isna()].shape"
      ],
      "execution_count": 18,
      "outputs": [
        {
          "output_type": "execute_result",
          "data": {
            "text/plain": [
              "(0, 9)"
            ]
          },
          "metadata": {
            "tags": []
          },
          "execution_count": 18
        }
      ]
    },
    {
      "cell_type": "code",
      "metadata": {
        "id": "ozV0i687D0_M",
        "colab": {
          "base_uri": "https://localhost:8080/"
        },
        "outputId": "0c43788a-b6dd-4c66-c380-8f7b0ced30c4"
      },
      "source": [
        "#there are 6 rows with '?' values in 'horsepower' column\n",
        "auto_mpg[auto_mpg['horsepower'] == '?'].shape"
      ],
      "execution_count": 19,
      "outputs": [
        {
          "output_type": "execute_result",
          "data": {
            "text/plain": [
              "(6, 9)"
            ]
          },
          "metadata": {
            "tags": []
          },
          "execution_count": 19
        }
      ]
    },
    {
      "cell_type": "code",
      "metadata": {
        "id": "Se9YXq5LlENX"
      },
      "source": [
        "#Replacing '?' with a NaN from NumPy in columns 'horsepower'\n",
        "imp = SimpleImputer(strategy = 'constant', fill_value=np.nan, missing_values='?')\n",
        "imp = imp.fit(auto_mpg[['horsepower']])\n",
        "auto_mpg['horsepower'] = imp.transform(auto_mpg[['horsepower']])"
      ],
      "execution_count": 20,
      "outputs": []
    },
    {
      "cell_type": "code",
      "metadata": {
        "id": "NzYqEut_CJS7",
        "colab": {
          "base_uri": "https://localhost:8080/"
        },
        "outputId": "c6564069-d49c-48e3-8652-d105734949f8"
      },
      "source": [
        "#there are 0 rows with '?' values in 'horsepower' column\n",
        "auto_mpg[auto_mpg['horsepower'] == '?'].shape"
      ],
      "execution_count": 21,
      "outputs": [
        {
          "output_type": "execute_result",
          "data": {
            "text/plain": [
              "(0, 9)"
            ]
          },
          "metadata": {
            "tags": []
          },
          "execution_count": 21
        }
      ]
    },
    {
      "cell_type": "code",
      "metadata": {
        "id": "eteOMmSTGAjX",
        "colab": {
          "base_uri": "https://localhost:8080/"
        },
        "outputId": "22393112-fb5c-4d4f-f92f-f6eede7d7aae"
      },
      "source": [
        "#there are 6 rows with NaN values in 'horsepower' column\n",
        "auto_mpg[auto_mpg['horsepower'].isna()].shape"
      ],
      "execution_count": 22,
      "outputs": [
        {
          "output_type": "execute_result",
          "data": {
            "text/plain": [
              "(6, 9)"
            ]
          },
          "metadata": {
            "tags": []
          },
          "execution_count": 22
        }
      ]
    },
    {
      "cell_type": "markdown",
      "metadata": {
        "id": "DG-6sBaZLakK"
      },
      "source": [
        "Calculating summary statistics for each numerical column."
      ]
    },
    {
      "cell_type": "code",
      "metadata": {
        "id": "peR00GHDFEIW",
        "colab": {
          "base_uri": "https://localhost:8080/"
        },
        "outputId": "ddfa5dae-ccc3-47de-d1c1-b62a603e630c"
      },
      "source": [
        "#because all columns are type object, I am casting them to numeric in order to calculate summary statistics\n",
        "auto_mpg.dtypes"
      ],
      "execution_count": 23,
      "outputs": [
        {
          "output_type": "execute_result",
          "data": {
            "text/plain": [
              "mpg             object\n",
              "cylinders       object\n",
              "displacement    object\n",
              "horsepower      object\n",
              "weight          object\n",
              "acceleration    object\n",
              "model_year      object\n",
              "origin          object\n",
              "car_name        object\n",
              "dtype: object"
            ]
          },
          "metadata": {
            "tags": []
          },
          "execution_count": 23
        }
      ]
    },
    {
      "cell_type": "code",
      "metadata": {
        "id": "Fst65-XgBmNI"
      },
      "source": [
        "cols = auto_mpg.columns.drop('car_name')\n",
        "auto_mpg[cols] = auto_mpg[cols].apply(pd.to_numeric, errors='coerce')"
      ],
      "execution_count": 24,
      "outputs": []
    },
    {
      "cell_type": "code",
      "metadata": {
        "id": "pa_Lq5jREypD",
        "colab": {
          "base_uri": "https://localhost:8080/"
        },
        "outputId": "850ac5e3-9ab2-490e-e708-5d5e437ec9d3"
      },
      "source": [
        "#all columns besides 'car_name' are numerical type now\n",
        "auto_mpg.dtypes"
      ],
      "execution_count": 25,
      "outputs": [
        {
          "output_type": "execute_result",
          "data": {
            "text/plain": [
              "mpg             float64\n",
              "cylinders         int64\n",
              "displacement    float64\n",
              "horsepower      float64\n",
              "weight          float64\n",
              "acceleration    float64\n",
              "model_year        int64\n",
              "origin            int64\n",
              "car_name         object\n",
              "dtype: object"
            ]
          },
          "metadata": {
            "tags": []
          },
          "execution_count": 25
        }
      ]
    },
    {
      "cell_type": "code",
      "metadata": {
        "id": "JUvfLaFaFSfR",
        "colab": {
          "base_uri": "https://localhost:8080/",
          "height": 297
        },
        "outputId": "93ab31b8-6a4f-4ebc-f27b-514f6d1a35dc"
      },
      "source": [
        "#calculating summary statistics\n",
        "auto_mpg.describe()"
      ],
      "execution_count": 26,
      "outputs": [
        {
          "output_type": "execute_result",
          "data": {
            "text/html": [
              "<div>\n",
              "<style scoped>\n",
              "    .dataframe tbody tr th:only-of-type {\n",
              "        vertical-align: middle;\n",
              "    }\n",
              "\n",
              "    .dataframe tbody tr th {\n",
              "        vertical-align: top;\n",
              "    }\n",
              "\n",
              "    .dataframe thead th {\n",
              "        text-align: right;\n",
              "    }\n",
              "</style>\n",
              "<table border=\"1\" class=\"dataframe\">\n",
              "  <thead>\n",
              "    <tr style=\"text-align: right;\">\n",
              "      <th></th>\n",
              "      <th>mpg</th>\n",
              "      <th>cylinders</th>\n",
              "      <th>displacement</th>\n",
              "      <th>horsepower</th>\n",
              "      <th>weight</th>\n",
              "      <th>acceleration</th>\n",
              "      <th>model_year</th>\n",
              "      <th>origin</th>\n",
              "    </tr>\n",
              "  </thead>\n",
              "  <tbody>\n",
              "    <tr>\n",
              "      <th>count</th>\n",
              "      <td>398.000000</td>\n",
              "      <td>398.000000</td>\n",
              "      <td>398.000000</td>\n",
              "      <td>392.000000</td>\n",
              "      <td>398.000000</td>\n",
              "      <td>398.000000</td>\n",
              "      <td>398.000000</td>\n",
              "      <td>398.000000</td>\n",
              "    </tr>\n",
              "    <tr>\n",
              "      <th>mean</th>\n",
              "      <td>23.514573</td>\n",
              "      <td>5.454774</td>\n",
              "      <td>193.425879</td>\n",
              "      <td>104.469388</td>\n",
              "      <td>2970.424623</td>\n",
              "      <td>15.568090</td>\n",
              "      <td>76.010050</td>\n",
              "      <td>1.572864</td>\n",
              "    </tr>\n",
              "    <tr>\n",
              "      <th>std</th>\n",
              "      <td>7.815984</td>\n",
              "      <td>1.701004</td>\n",
              "      <td>104.269838</td>\n",
              "      <td>38.491160</td>\n",
              "      <td>846.841774</td>\n",
              "      <td>2.757689</td>\n",
              "      <td>3.697627</td>\n",
              "      <td>0.802055</td>\n",
              "    </tr>\n",
              "    <tr>\n",
              "      <th>min</th>\n",
              "      <td>9.000000</td>\n",
              "      <td>3.000000</td>\n",
              "      <td>68.000000</td>\n",
              "      <td>46.000000</td>\n",
              "      <td>1613.000000</td>\n",
              "      <td>8.000000</td>\n",
              "      <td>70.000000</td>\n",
              "      <td>1.000000</td>\n",
              "    </tr>\n",
              "    <tr>\n",
              "      <th>25%</th>\n",
              "      <td>17.500000</td>\n",
              "      <td>4.000000</td>\n",
              "      <td>104.250000</td>\n",
              "      <td>75.000000</td>\n",
              "      <td>2223.750000</td>\n",
              "      <td>13.825000</td>\n",
              "      <td>73.000000</td>\n",
              "      <td>1.000000</td>\n",
              "    </tr>\n",
              "    <tr>\n",
              "      <th>50%</th>\n",
              "      <td>23.000000</td>\n",
              "      <td>4.000000</td>\n",
              "      <td>148.500000</td>\n",
              "      <td>93.500000</td>\n",
              "      <td>2803.500000</td>\n",
              "      <td>15.500000</td>\n",
              "      <td>76.000000</td>\n",
              "      <td>1.000000</td>\n",
              "    </tr>\n",
              "    <tr>\n",
              "      <th>75%</th>\n",
              "      <td>29.000000</td>\n",
              "      <td>8.000000</td>\n",
              "      <td>262.000000</td>\n",
              "      <td>126.000000</td>\n",
              "      <td>3608.000000</td>\n",
              "      <td>17.175000</td>\n",
              "      <td>79.000000</td>\n",
              "      <td>2.000000</td>\n",
              "    </tr>\n",
              "    <tr>\n",
              "      <th>max</th>\n",
              "      <td>46.600000</td>\n",
              "      <td>8.000000</td>\n",
              "      <td>455.000000</td>\n",
              "      <td>230.000000</td>\n",
              "      <td>5140.000000</td>\n",
              "      <td>24.800000</td>\n",
              "      <td>82.000000</td>\n",
              "      <td>3.000000</td>\n",
              "    </tr>\n",
              "  </tbody>\n",
              "</table>\n",
              "</div>"
            ],
            "text/plain": [
              "              mpg   cylinders  ...  model_year      origin\n",
              "count  398.000000  398.000000  ...  398.000000  398.000000\n",
              "mean    23.514573    5.454774  ...   76.010050    1.572864\n",
              "std      7.815984    1.701004  ...    3.697627    0.802055\n",
              "min      9.000000    3.000000  ...   70.000000    1.000000\n",
              "25%     17.500000    4.000000  ...   73.000000    1.000000\n",
              "50%     23.000000    4.000000  ...   76.000000    1.000000\n",
              "75%     29.000000    8.000000  ...   79.000000    2.000000\n",
              "max     46.600000    8.000000  ...   82.000000    3.000000\n",
              "\n",
              "[8 rows x 8 columns]"
            ]
          },
          "metadata": {
            "tags": []
          },
          "execution_count": 26
        }
      ]
    },
    {
      "cell_type": "markdown",
      "metadata": {
        "id": "HZSm7gv4Lwj_"
      },
      "source": [
        "Replacing the missing values with the overall mean, median, and mode and calculating the variance of the feature 'horsepower'."
      ]
    },
    {
      "cell_type": "code",
      "metadata": {
        "id": "tgWGKXq4G5xU",
        "colab": {
          "base_uri": "https://localhost:8080/"
        },
        "outputId": "e8797ff5-556e-4721-8048-5bc0d2d1b198"
      },
      "source": [
        "#initial variance before transformations\n",
        "auto_mpg['horsepower'].var()"
      ],
      "execution_count": 27,
      "outputs": [
        {
          "output_type": "execute_result",
          "data": {
            "text/plain": [
              "1481.5693929745862"
            ]
          },
          "metadata": {
            "tags": []
          },
          "execution_count": 27
        }
      ]
    },
    {
      "cell_type": "code",
      "metadata": {
        "id": "CNjXajwDGEVY",
        "colab": {
          "base_uri": "https://localhost:8080/"
        },
        "outputId": "02a22e4b-4401-482f-e427-7b5d85e21674"
      },
      "source": [
        "#variance with mean\n",
        "imp_mean = SimpleImputer(strategy = 'mean', missing_values=np.nan)\n",
        "imp_mean = imp_mean.fit(auto_mpg[['horsepower']])\n",
        "imp_mean.transform(auto_mpg[['horsepower']]).var()"
      ],
      "execution_count": 28,
      "outputs": [
        {
          "output_type": "execute_result",
          "data": {
            "text/plain": [
              "1455.5116398318123"
            ]
          },
          "metadata": {
            "tags": []
          },
          "execution_count": 28
        }
      ]
    },
    {
      "cell_type": "code",
      "metadata": {
        "id": "UdqXzcZ0GuhN",
        "colab": {
          "base_uri": "https://localhost:8080/"
        },
        "outputId": "d6ad209d-b26e-4d3e-8fb3-ebbd997c5a51"
      },
      "source": [
        "#variance with median\n",
        "imp_median = SimpleImputer(strategy = 'median', missing_values=np.nan)\n",
        "imp_median = imp_median.fit(auto_mpg[['horsepower']])\n",
        "imp_median.transform(auto_mpg[['horsepower']]).var()"
      ],
      "execution_count": 29,
      "outputs": [
        {
          "output_type": "execute_result",
          "data": {
            "text/plain": [
              "1457.2982752960784"
            ]
          },
          "metadata": {
            "tags": []
          },
          "execution_count": 29
        }
      ]
    },
    {
      "cell_type": "code",
      "metadata": {
        "id": "J5igs0iDGvax",
        "colab": {
          "base_uri": "https://localhost:8080/"
        },
        "outputId": "f42cc450-8e4a-43a1-d240-bd87af66bcea"
      },
      "source": [
        "#variance with mode\n",
        "imp_mode = SimpleImputer(strategy = 'most_frequent', missing_values=np.nan)\n",
        "imp_mode = imp_mode.fit(auto_mpg[['horsepower']])\n",
        "imp_mode.transform(auto_mpg[['horsepower']]).var()"
      ],
      "execution_count": 30,
      "outputs": [
        {
          "output_type": "execute_result",
          "data": {
            "text/plain": [
              "1486.29231585061"
            ]
          },
          "metadata": {
            "tags": []
          },
          "execution_count": 30
        }
      ]
    },
    {
      "cell_type": "markdown",
      "metadata": {
        "id": "HLBLZpQtJdPq"
      },
      "source": [
        "*What imputation results in the lowest variance? Why? Is there a different method of imputing values that would match the distribution more accurately? Describe your method.*\n",
        "\n",
        "The imputation with the mean results in the lowest variance. By replacing the NaN values with the mean we had extra 6 values equal to the mean in the dataset. Since **variance is the sum of the squared distances of each term in the distribution from the mean**, these extra 6 values that are equal to the mean added extra 6 zeroes in the sum of the variance (because mean - mean = 0)that was later divided by n+6. **In other words, given the definition for the variance, replacing NaN values with the mean reduced the average distance from the mean in a most effective way for all values of the feature compared to the mode and median.** Hence the lowest variance.\n",
        "\n",
        "To match the distribution more accurately, imputation with machine learning models would produce one of the most accurate prediction of the missing data point. Imputation with mean, median or mode can be inaccurate and introduce bias, while ML can learn from the data set and based on the other features of the data points. it can make a good prediction for the missing values. \n"
      ]
    },
    {
      "cell_type": "markdown",
      "metadata": {
        "id": "vbC0HmrHtcSe"
      },
      "source": [
        "### Problem 3"
      ]
    },
    {
      "cell_type": "markdown",
      "metadata": {
        "id": "cZA19tGevT3s"
      },
      "source": [
        "Loading the iris sample dataset into Python using a Pandas dataframe."
      ]
    },
    {
      "cell_type": "code",
      "metadata": {
        "id": "_EaG0ZcSMKzR"
      },
      "source": [
        "url = \"https://archive.ics.uci.edu/ml/machine-learning-databases/iris/iris.data\"\n",
        "# load dataset into Pandas DataFrame\n",
        "iris = pd.read_csv(url, names=['sepal length','sepal width','petal length','petal width','target'])"
      ],
      "execution_count": 31,
      "outputs": []
    },
    {
      "cell_type": "code",
      "metadata": {
        "id": "PzPWNWPEu0q3",
        "colab": {
          "base_uri": "https://localhost:8080/",
          "height": 204
        },
        "outputId": "ce110baf-bc32-43d0-fe02-17790f6fc70e"
      },
      "source": [
        "iris.head(5)"
      ],
      "execution_count": 32,
      "outputs": [
        {
          "output_type": "execute_result",
          "data": {
            "text/html": [
              "<div>\n",
              "<style scoped>\n",
              "    .dataframe tbody tr th:only-of-type {\n",
              "        vertical-align: middle;\n",
              "    }\n",
              "\n",
              "    .dataframe tbody tr th {\n",
              "        vertical-align: top;\n",
              "    }\n",
              "\n",
              "    .dataframe thead th {\n",
              "        text-align: right;\n",
              "    }\n",
              "</style>\n",
              "<table border=\"1\" class=\"dataframe\">\n",
              "  <thead>\n",
              "    <tr style=\"text-align: right;\">\n",
              "      <th></th>\n",
              "      <th>sepal length</th>\n",
              "      <th>sepal width</th>\n",
              "      <th>petal length</th>\n",
              "      <th>petal width</th>\n",
              "      <th>target</th>\n",
              "    </tr>\n",
              "  </thead>\n",
              "  <tbody>\n",
              "    <tr>\n",
              "      <th>0</th>\n",
              "      <td>5.1</td>\n",
              "      <td>3.5</td>\n",
              "      <td>1.4</td>\n",
              "      <td>0.2</td>\n",
              "      <td>Iris-setosa</td>\n",
              "    </tr>\n",
              "    <tr>\n",
              "      <th>1</th>\n",
              "      <td>4.9</td>\n",
              "      <td>3.0</td>\n",
              "      <td>1.4</td>\n",
              "      <td>0.2</td>\n",
              "      <td>Iris-setosa</td>\n",
              "    </tr>\n",
              "    <tr>\n",
              "      <th>2</th>\n",
              "      <td>4.7</td>\n",
              "      <td>3.2</td>\n",
              "      <td>1.3</td>\n",
              "      <td>0.2</td>\n",
              "      <td>Iris-setosa</td>\n",
              "    </tr>\n",
              "    <tr>\n",
              "      <th>3</th>\n",
              "      <td>4.6</td>\n",
              "      <td>3.1</td>\n",
              "      <td>1.5</td>\n",
              "      <td>0.2</td>\n",
              "      <td>Iris-setosa</td>\n",
              "    </tr>\n",
              "    <tr>\n",
              "      <th>4</th>\n",
              "      <td>5.0</td>\n",
              "      <td>3.6</td>\n",
              "      <td>1.4</td>\n",
              "      <td>0.2</td>\n",
              "      <td>Iris-setosa</td>\n",
              "    </tr>\n",
              "  </tbody>\n",
              "</table>\n",
              "</div>"
            ],
            "text/plain": [
              "   sepal length  sepal width  petal length  petal width       target\n",
              "0           5.1          3.5           1.4          0.2  Iris-setosa\n",
              "1           4.9          3.0           1.4          0.2  Iris-setosa\n",
              "2           4.7          3.2           1.3          0.2  Iris-setosa\n",
              "3           4.6          3.1           1.5          0.2  Iris-setosa\n",
              "4           5.0          3.6           1.4          0.2  Iris-setosa"
            ]
          },
          "metadata": {
            "tags": []
          },
          "execution_count": 32
        }
      ]
    },
    {
      "cell_type": "markdown",
      "metadata": {
        "id": "PLcPUGfOYWiW"
      },
      "source": [
        "Standardizing the Data."
      ]
    },
    {
      "cell_type": "code",
      "metadata": {
        "id": "QdD2RPbqYVxC"
      },
      "source": [
        "columns = ['sepal length', 'sepal width', 'petal length', 'petal width']\n",
        "# Separating out the columns\n",
        "x = iris.loc[:, columns].values\n",
        "# Separating out the target\n",
        "y = iris.loc[:,['target']].values\n",
        "# Standardizing the columns\n",
        "x = StandardScaler().fit_transform(x)"
      ],
      "execution_count": 33,
      "outputs": []
    },
    {
      "cell_type": "code",
      "metadata": {
        "id": "LwzJ2InyY1Pb",
        "colab": {
          "base_uri": "https://localhost:8080/",
          "height": 204
        },
        "outputId": "c7ac6348-3dfc-4d16-c400-89c10a092858"
      },
      "source": [
        "#Dataframe x (for visualization purposes)\n",
        "x_df = pd.DataFrame(data = x, columns = ['sepal length', 'sepal width', 'petal length', 'petal width'])\n",
        "x_df.head(5)"
      ],
      "execution_count": 34,
      "outputs": [
        {
          "output_type": "execute_result",
          "data": {
            "text/html": [
              "<div>\n",
              "<style scoped>\n",
              "    .dataframe tbody tr th:only-of-type {\n",
              "        vertical-align: middle;\n",
              "    }\n",
              "\n",
              "    .dataframe tbody tr th {\n",
              "        vertical-align: top;\n",
              "    }\n",
              "\n",
              "    .dataframe thead th {\n",
              "        text-align: right;\n",
              "    }\n",
              "</style>\n",
              "<table border=\"1\" class=\"dataframe\">\n",
              "  <thead>\n",
              "    <tr style=\"text-align: right;\">\n",
              "      <th></th>\n",
              "      <th>sepal length</th>\n",
              "      <th>sepal width</th>\n",
              "      <th>petal length</th>\n",
              "      <th>petal width</th>\n",
              "    </tr>\n",
              "  </thead>\n",
              "  <tbody>\n",
              "    <tr>\n",
              "      <th>0</th>\n",
              "      <td>-0.900681</td>\n",
              "      <td>1.032057</td>\n",
              "      <td>-1.341272</td>\n",
              "      <td>-1.312977</td>\n",
              "    </tr>\n",
              "    <tr>\n",
              "      <th>1</th>\n",
              "      <td>-1.143017</td>\n",
              "      <td>-0.124958</td>\n",
              "      <td>-1.341272</td>\n",
              "      <td>-1.312977</td>\n",
              "    </tr>\n",
              "    <tr>\n",
              "      <th>2</th>\n",
              "      <td>-1.385353</td>\n",
              "      <td>0.337848</td>\n",
              "      <td>-1.398138</td>\n",
              "      <td>-1.312977</td>\n",
              "    </tr>\n",
              "    <tr>\n",
              "      <th>3</th>\n",
              "      <td>-1.506521</td>\n",
              "      <td>0.106445</td>\n",
              "      <td>-1.284407</td>\n",
              "      <td>-1.312977</td>\n",
              "    </tr>\n",
              "    <tr>\n",
              "      <th>4</th>\n",
              "      <td>-1.021849</td>\n",
              "      <td>1.263460</td>\n",
              "      <td>-1.341272</td>\n",
              "      <td>-1.312977</td>\n",
              "    </tr>\n",
              "  </tbody>\n",
              "</table>\n",
              "</div>"
            ],
            "text/plain": [
              "   sepal length  sepal width  petal length  petal width\n",
              "0     -0.900681     1.032057     -1.341272    -1.312977\n",
              "1     -1.143017    -0.124958     -1.341272    -1.312977\n",
              "2     -1.385353     0.337848     -1.398138    -1.312977\n",
              "3     -1.506521     0.106445     -1.284407    -1.312977\n",
              "4     -1.021849     1.263460     -1.341272    -1.312977"
            ]
          },
          "metadata": {
            "tags": []
          },
          "execution_count": 34
        }
      ]
    },
    {
      "cell_type": "markdown",
      "metadata": {
        "id": "294Iah7AYhGA"
      },
      "source": [
        "Performing a PCA using the Scikit Decomposition component, and providing the percentage of variance explained by each of the Principal Components."
      ]
    },
    {
      "cell_type": "code",
      "metadata": {
        "id": "jAoY2jO9aI7f"
      },
      "source": [
        "pca = PCA(n_components=3) # Reducing the number of components to three.\n",
        "principal_components = pca.fit_transform(x) #perform PCA\n",
        "principal_df = pd.DataFrame(data = principal_components\n",
        "             , columns = ['principal component 1', 'principal component 2', 'principal component 3'])\n",
        "final_pca_iris = pd.concat([principal_df, iris[['target']]], axis = 1)"
      ],
      "execution_count": 35,
      "outputs": []
    },
    {
      "cell_type": "code",
      "metadata": {
        "id": "CXApnQodigyu",
        "colab": {
          "base_uri": "https://localhost:8080/"
        },
        "outputId": "7050b0d1-fda5-46a2-8869-8d87b7b44092"
      },
      "source": [
        "pca.get_covariance()"
      ],
      "execution_count": 36,
      "outputs": [
        {
          "output_type": "execute_result",
          "data": {
            "text/plain": [
              "array([[ 1.00671141, -0.11010327,  0.87760486,  0.82344326],\n",
              "       [-0.11010327,  1.00671141, -0.42333835, -0.358937  ],\n",
              "       [ 0.87760486, -0.42333835,  1.00671141,  0.96921855],\n",
              "       [ 0.82344326, -0.358937  ,  0.96921855,  1.00671141]])"
            ]
          },
          "metadata": {
            "tags": []
          },
          "execution_count": 36
        }
      ]
    },
    {
      "cell_type": "code",
      "metadata": {
        "id": "slZ4YB62dMAw",
        "colab": {
          "base_uri": "https://localhost:8080/"
        },
        "outputId": "212d5283-87ea-4fcf-f35b-3b943482ce90"
      },
      "source": [
        "print(\"Percentage of variance explained by each component\")\n",
        "print(np.round(pca.explained_variance_ratio_, decimals=4)*100)\n",
        "\n",
        "print(\"\\n\\n\",\"Amount of variance considered from each components\")\n",
        "print(pca.components_)"
      ],
      "execution_count": 37,
      "outputs": [
        {
          "output_type": "stream",
          "text": [
            "Percentage of variance explained by each component\n",
            "[72.77 23.03  3.68]\n",
            "\n",
            "\n",
            " Amount of variance considered from each components\n",
            "[[ 0.52237162 -0.26335492  0.58125401  0.56561105]\n",
            " [ 0.37231836  0.92555649  0.02109478  0.06541577]\n",
            " [-0.72101681  0.24203288  0.14089226  0.6338014 ]]\n"
          ],
          "name": "stdout"
        }
      ]
    },
    {
      "cell_type": "code",
      "metadata": {
        "id": "910tH_1zvcnB",
        "colab": {
          "base_uri": "https://localhost:8080/",
          "height": 297
        },
        "outputId": "8947881c-9138-4955-e0a6-123be2ef6587"
      },
      "source": [
        "plt.plot(pca.explained_variance_ratio_)\n",
        "plt.xlabel('n_components')\n",
        "plt.ylabel('explained_variance_')"
      ],
      "execution_count": 38,
      "outputs": [
        {
          "output_type": "execute_result",
          "data": {
            "text/plain": [
              "Text(0, 0.5, 'explained_variance_')"
            ]
          },
          "metadata": {
            "tags": []
          },
          "execution_count": 38
        },
        {
          "output_type": "display_data",
          "data": {
            "image/png": "[encoded data removed]",
            "text/plain": [
              "<Figure size 432x288 with 1 Axes>"
            ]
          },
          "metadata": {
            "tags": [],
            "needs_background": "light"
          }
        }
      ]
    },
    {
      "cell_type": "markdown",
      "metadata": {
        "id": "APXroSpPvc_y"
      },
      "source": [
        "Comparing this to the percentage of variance explained by each of the original features."
      ]
    },
    {
      "cell_type": "code",
      "metadata": {
        "id": "_tkJ2guaq1QR",
        "colab": {
          "base_uri": "https://localhost:8080/"
        },
        "outputId": "2758d67c-2b0c-48d0-a108-2c2cdb2274c9"
      },
      "source": [
        "print(\"Percentage of variance explained by each component\")\n",
        "print(np.round(pca.explained_variance_ratio_, decimals=4)*100)"
      ],
      "execution_count": 39,
      "outputs": [
        {
          "output_type": "stream",
          "text": [
            "Percentage of variance explained by each component\n",
            "[72.77 23.03  3.68]\n"
          ],
          "name": "stdout"
        }
      ]
    },
    {
      "cell_type": "code",
      "metadata": {
        "id": "mkTgQWpdbCbX",
        "colab": {
          "base_uri": "https://localhost:8080/"
        },
        "outputId": "b5ddb2f9-4418-44c1-f8dc-cb5f6b9eed8d"
      },
      "source": [
        "print(\"Percentage of variance for standardized version of the original features\")\n",
        "np.round(x_df.var().to_numpy()/(x_df.var().to_numpy().sum()), decimals=4)*100"
      ],
      "execution_count": 40,
      "outputs": [
        {
          "output_type": "stream",
          "text": [
            "Percentage of variance for standardized version of the original features\n"
          ],
          "name": "stdout"
        },
        {
          "output_type": "execute_result",
          "data": {
            "text/plain": [
              "array([25., 25., 25., 25.])"
            ]
          },
          "metadata": {
            "tags": []
          },
          "execution_count": 40
        }
      ]
    },
    {
      "cell_type": "code",
      "metadata": {
        "id": "NF6dPO6kqUqN",
        "colab": {
          "base_uri": "https://localhost:8080/"
        },
        "outputId": "5640657e-7b8a-411b-fcb3-b101764043f5"
      },
      "source": [
        "print(\"Percentage of variance for the original features\")\n",
        "np.round(iris.var().to_numpy()/(iris.var().to_numpy().sum()), decimals=4)*100"
      ],
      "execution_count": 41,
      "outputs": [
        {
          "output_type": "stream",
          "text": [
            "Percentage of variance for the original features\n"
          ],
          "name": "stdout"
        },
        {
          "output_type": "execute_result",
          "data": {
            "text/plain": [
              "array([15.01,  4.11, 68.13, 12.75])"
            ]
          },
          "metadata": {
            "tags": []
          },
          "execution_count": 41
        }
      ]
    },
    {
      "cell_type": "markdown",
      "metadata": {
        "id": "XM8jWx3jriHM"
      },
      "source": [
        "*What do you observe?*\n",
        "\n",
        "For all features, percentage of variance explained by each of the original features is less than the biggest percentage of variance explained by principal components - principal component 1. While initially we needed all 4 features to avoid substantial informatiopn loss, principle components allowed us to reduce the number of features by one at the cost of 100% - 99.48% = 0.52% of information loss."
      ]
    },
    {
      "cell_type": "markdown",
      "metadata": {
        "id": "ecs6e3SPbEjX"
      },
      "source": [
        "Citations:\n",
        "\n",
        "[A One-Stop Shop for Principal Component Analysis](https://towardsdatascience.com/a-one-stop-shop-for-principal-component-analysis-5582fb7e0a9c)\n",
        "\n",
        "[PCA using Python (scikit-learn)](https://towardsdatascience.com/pca-using-python-scikit-learn-e653f8989e60)"
      ]
    },
    {
      "cell_type": "markdown",
      "metadata": {
        "id": "n9HUnJFftRlO"
      },
      "source": [
        "### Problem 4"
      ]
    },
    {
      "cell_type": "markdown",
      "metadata": {
        "id": "R5yI3a3vFa4Q"
      },
      "source": [
        "Ploting a projection of each feature onto the 1st Principal Component from the above problem against vs. the original feature itself."
      ]
    },
    {
      "cell_type": "code",
      "metadata": {
        "id": "KeKMb2fotRO9",
        "colab": {
          "base_uri": "https://localhost:8080/",
          "height": 204
        },
        "outputId": "0aad5c3a-00a6-4db3-98b7-bff76672f9d2"
      },
      "source": [
        "final_pca_iris.head(5)"
      ],
      "execution_count": 42,
      "outputs": [
        {
          "output_type": "execute_result",
          "data": {
            "text/html": [
              "<div>\n",
              "<style scoped>\n",
              "    .dataframe tbody tr th:only-of-type {\n",
              "        vertical-align: middle;\n",
              "    }\n",
              "\n",
              "    .dataframe tbody tr th {\n",
              "        vertical-align: top;\n",
              "    }\n",
              "\n",
              "    .dataframe thead th {\n",
              "        text-align: right;\n",
              "    }\n",
              "</style>\n",
              "<table border=\"1\" class=\"dataframe\">\n",
              "  <thead>\n",
              "    <tr style=\"text-align: right;\">\n",
              "      <th></th>\n",
              "      <th>principal component 1</th>\n",
              "      <th>principal component 2</th>\n",
              "      <th>principal component 3</th>\n",
              "      <th>target</th>\n",
              "    </tr>\n",
              "  </thead>\n",
              "  <tbody>\n",
              "    <tr>\n",
              "      <th>0</th>\n",
              "      <td>-2.264542</td>\n",
              "      <td>0.505704</td>\n",
              "      <td>-0.121943</td>\n",
              "      <td>Iris-setosa</td>\n",
              "    </tr>\n",
              "    <tr>\n",
              "      <th>1</th>\n",
              "      <td>-2.086426</td>\n",
              "      <td>-0.655405</td>\n",
              "      <td>-0.227251</td>\n",
              "      <td>Iris-setosa</td>\n",
              "    </tr>\n",
              "    <tr>\n",
              "      <th>2</th>\n",
              "      <td>-2.367950</td>\n",
              "      <td>-0.318477</td>\n",
              "      <td>0.051480</td>\n",
              "      <td>Iris-setosa</td>\n",
              "    </tr>\n",
              "    <tr>\n",
              "      <th>3</th>\n",
              "      <td>-2.304197</td>\n",
              "      <td>-0.575368</td>\n",
              "      <td>0.098860</td>\n",
              "      <td>Iris-setosa</td>\n",
              "    </tr>\n",
              "    <tr>\n",
              "      <th>4</th>\n",
              "      <td>-2.388777</td>\n",
              "      <td>0.674767</td>\n",
              "      <td>0.021428</td>\n",
              "      <td>Iris-setosa</td>\n",
              "    </tr>\n",
              "  </tbody>\n",
              "</table>\n",
              "</div>"
            ],
            "text/plain": [
              "   principal component 1  ...       target\n",
              "0              -2.264542  ...  Iris-setosa\n",
              "1              -2.086426  ...  Iris-setosa\n",
              "2              -2.367950  ...  Iris-setosa\n",
              "3              -2.304197  ...  Iris-setosa\n",
              "4              -2.388777  ...  Iris-setosa\n",
              "\n",
              "[5 rows x 4 columns]"
            ]
          },
          "metadata": {
            "tags": []
          },
          "execution_count": 42
        }
      ]
    },
    {
      "cell_type": "code",
      "metadata": {
        "id": "HUljReDYH8bO",
        "colab": {
          "base_uri": "https://localhost:8080/",
          "height": 204
        },
        "outputId": "fd4f75e3-c8c5-434b-9ad5-6fb679c0f024"
      },
      "source": [
        "x_df = pd.concat([x_df, iris[['target']]], axis = 1)\n",
        "x_df.head(5)"
      ],
      "execution_count": 43,
      "outputs": [
        {
          "output_type": "execute_result",
          "data": {
            "text/html": [
              "<div>\n",
              "<style scoped>\n",
              "    .dataframe tbody tr th:only-of-type {\n",
              "        vertical-align: middle;\n",
              "    }\n",
              "\n",
              "    .dataframe tbody tr th {\n",
              "        vertical-align: top;\n",
              "    }\n",
              "\n",
              "    .dataframe thead th {\n",
              "        text-align: right;\n",
              "    }\n",
              "</style>\n",
              "<table border=\"1\" class=\"dataframe\">\n",
              "  <thead>\n",
              "    <tr style=\"text-align: right;\">\n",
              "      <th></th>\n",
              "      <th>sepal length</th>\n",
              "      <th>sepal width</th>\n",
              "      <th>petal length</th>\n",
              "      <th>petal width</th>\n",
              "      <th>target</th>\n",
              "    </tr>\n",
              "  </thead>\n",
              "  <tbody>\n",
              "    <tr>\n",
              "      <th>0</th>\n",
              "      <td>-0.900681</td>\n",
              "      <td>1.032057</td>\n",
              "      <td>-1.341272</td>\n",
              "      <td>-1.312977</td>\n",
              "      <td>Iris-setosa</td>\n",
              "    </tr>\n",
              "    <tr>\n",
              "      <th>1</th>\n",
              "      <td>-1.143017</td>\n",
              "      <td>-0.124958</td>\n",
              "      <td>-1.341272</td>\n",
              "      <td>-1.312977</td>\n",
              "      <td>Iris-setosa</td>\n",
              "    </tr>\n",
              "    <tr>\n",
              "      <th>2</th>\n",
              "      <td>-1.385353</td>\n",
              "      <td>0.337848</td>\n",
              "      <td>-1.398138</td>\n",
              "      <td>-1.312977</td>\n",
              "      <td>Iris-setosa</td>\n",
              "    </tr>\n",
              "    <tr>\n",
              "      <th>3</th>\n",
              "      <td>-1.506521</td>\n",
              "      <td>0.106445</td>\n",
              "      <td>-1.284407</td>\n",
              "      <td>-1.312977</td>\n",
              "      <td>Iris-setosa</td>\n",
              "    </tr>\n",
              "    <tr>\n",
              "      <th>4</th>\n",
              "      <td>-1.021849</td>\n",
              "      <td>1.263460</td>\n",
              "      <td>-1.341272</td>\n",
              "      <td>-1.312977</td>\n",
              "      <td>Iris-setosa</td>\n",
              "    </tr>\n",
              "  </tbody>\n",
              "</table>\n",
              "</div>"
            ],
            "text/plain": [
              "   sepal length  sepal width  petal length  petal width       target\n",
              "0     -0.900681     1.032057     -1.341272    -1.312977  Iris-setosa\n",
              "1     -1.143017    -0.124958     -1.341272    -1.312977  Iris-setosa\n",
              "2     -1.385353     0.337848     -1.398138    -1.312977  Iris-setosa\n",
              "3     -1.506521     0.106445     -1.284407    -1.312977  Iris-setosa\n",
              "4     -1.021849     1.263460     -1.341272    -1.312977  Iris-setosa"
            ]
          },
          "metadata": {
            "tags": []
          },
          "execution_count": 43
        }
      ]
    },
    {
      "cell_type": "code",
      "metadata": {
        "id": "5C-XqspSJZWE",
        "colab": {
          "base_uri": "https://localhost:8080/",
          "height": 312
        },
        "outputId": "736bb396-8854-4e18-b247-575691a6c502"
      },
      "source": [
        "plt.scatter(final_pca_iris['principal component 1'], x_df['sepal length']);\n",
        "plt.xlabel('Principal Component 1');\n",
        "plt.ylabel('Sepal Length');\n",
        "plt.title(\"PC 1 vs Sepal Length\")"
      ],
      "execution_count": 44,
      "outputs": [
        {
          "output_type": "execute_result",
          "data": {
            "text/plain": [
              "Text(0.5, 1.0, 'PC 1 vs Sepal Length')"
            ]
          },
          "metadata": {
            "tags": []
          },
          "execution_count": 44
        },
        {
          "output_type": "display_data",
          "data": {
            "image/png": "[encoded data removed]",
            "text/plain": [
              "<Figure size 432x288 with 1 Axes>"
            ]
          },
          "metadata": {
            "tags": [],
            "needs_background": "light"
          }
        }
      ]
    },
    {
      "cell_type": "code",
      "metadata": {
        "id": "s_taYrvfKu0l",
        "colab": {
          "base_uri": "https://localhost:8080/",
          "height": 312
        },
        "outputId": "46e9daf1-b9cc-423f-b8cd-123f3afaf620"
      },
      "source": [
        "plt.scatter(final_pca_iris['principal component 1'], x_df['sepal width']);\n",
        "plt.xlabel('Principal Component 1');\n",
        "plt.ylabel('Sepal Width');\n",
        "plt.title(\"PC 1 vs Sepal Width\")"
      ],
      "execution_count": 45,
      "outputs": [
        {
          "output_type": "execute_result",
          "data": {
            "text/plain": [
              "Text(0.5, 1.0, 'PC 1 vs Sepal Width')"
            ]
          },
          "metadata": {
            "tags": []
          },
          "execution_count": 45
        },
        {
          "output_type": "display_data",
          "data": {
            "image/png": "[encoded data removed]",
            "text/plain": [
              "<Figure size 432x288 with 1 Axes>"
            ]
          },
          "metadata": {
            "tags": [],
            "needs_background": "light"
          }
        }
      ]
    },
    {
      "cell_type": "code",
      "metadata": {
        "id": "WlbKK3T7KznB",
        "colab": {
          "base_uri": "https://localhost:8080/",
          "height": 312
        },
        "outputId": "93f83b62-36d1-4fa4-8806-4fc4c170c30f"
      },
      "source": [
        "plt.scatter(final_pca_iris['principal component 1'], x_df['petal length']);\n",
        "plt.xlabel('Principal Component 1');\n",
        "plt.ylabel('Petal Length');\n",
        "plt.title(\"PC 1 vs Petal Length\")"
      ],
      "execution_count": 46,
      "outputs": [
        {
          "output_type": "execute_result",
          "data": {
            "text/plain": [
              "Text(0.5, 1.0, 'PC 1 vs Petal Length')"
            ]
          },
          "metadata": {
            "tags": []
          },
          "execution_count": 46
        },
        {
          "output_type": "display_data",
          "data": {
            "image/png": "[encoded data removed]",
            "text/plain": [
              "<Figure size 432x288 with 1 Axes>"
            ]
          },
          "metadata": {
            "tags": [],
            "needs_background": "light"
          }
        }
      ]
    },
    {
      "cell_type": "code",
      "metadata": {
        "id": "LoIH2fhAK5gD",
        "colab": {
          "base_uri": "https://localhost:8080/",
          "height": 312
        },
        "outputId": "ee48df23-95ff-4c30-8b77-1c68240ad99e"
      },
      "source": [
        "plt.scatter(final_pca_iris['principal component 1'], x_df['petal width']);\n",
        "plt.xlabel('Principal Component 1');\n",
        "plt.ylabel('Petal Width');\n",
        "plt.title(\"PC 1 vs Petal Width\")"
      ],
      "execution_count": 47,
      "outputs": [
        {
          "output_type": "execute_result",
          "data": {
            "text/plain": [
              "Text(0.5, 1.0, 'PC 1 vs Petal Width')"
            ]
          },
          "metadata": {
            "tags": []
          },
          "execution_count": 47
        },
        {
          "output_type": "display_data",
          "data": {
            "image/png": "[encoded data removed]",
            "text/plain": [
              "<Figure size 432x288 with 1 Axes>"
            ]
          },
          "metadata": {
            "tags": [],
            "needs_background": "light"
          }
        }
      ]
    },
    {
      "cell_type": "markdown",
      "metadata": {
        "id": "rm4M8qc7L89O"
      },
      "source": [
        "Calculating cosine similarity between principle component 1 and original features.+"
      ]
    },
    {
      "cell_type": "code",
      "metadata": {
        "id": "6435e6fKL-Al",
        "colab": {
          "base_uri": "https://localhost:8080/"
        },
        "outputId": "687d6d5f-980e-4de8-98b2-d71e03c22519"
      },
      "source": [
        "#cosine similarity between principal component 1 and petal length\n",
        "cosine_similarity(final_pca_iris['principal component 1'].to_numpy().reshape(1,-1), x_df['petal length'].to_numpy().reshape(1,-1))[0][0]"
      ],
      "execution_count": 48,
      "outputs": [
        {
          "output_type": "execute_result",
          "data": {
            "text/plain": [
              "0.9916844215984975"
            ]
          },
          "metadata": {
            "tags": []
          },
          "execution_count": 48
        }
      ]
    },
    {
      "cell_type": "code",
      "metadata": {
        "id": "NTPdcKj-NcQX",
        "colab": {
          "base_uri": "https://localhost:8080/"
        },
        "outputId": "279631a2-8932-4cde-d849-f979af9c59e9"
      },
      "source": [
        "#cosine similarity between principal component 1 and petal width\n",
        "cosine_similarity(final_pca_iris['principal component 1'].to_numpy().reshape(1,-1), x_df['petal width'].to_numpy().reshape(1,-1))[0][0]"
      ],
      "execution_count": 49,
      "outputs": [
        {
          "output_type": "execute_result",
          "data": {
            "text/plain": [
              "0.9649957874713762"
            ]
          },
          "metadata": {
            "tags": []
          },
          "execution_count": 49
        }
      ]
    },
    {
      "cell_type": "code",
      "metadata": {
        "id": "qod_e4olNgYV",
        "colab": {
          "base_uri": "https://localhost:8080/"
        },
        "outputId": "40ef6089-666d-4b33-a39a-8839005f2cfe"
      },
      "source": [
        "#cosine similarity between principal component 1 and sepal length\n",
        "cosine_similarity(final_pca_iris['principal component 1'].to_numpy().reshape(1,-1), x_df['sepal length'].to_numpy().reshape(1,-1))[0][0]"
      ],
      "execution_count": 50,
      "outputs": [
        {
          "output_type": "execute_result",
          "data": {
            "text/plain": [
              "0.8912244788933582"
            ]
          },
          "metadata": {
            "tags": []
          },
          "execution_count": 50
        }
      ]
    },
    {
      "cell_type": "code",
      "metadata": {
        "id": "nPZgE7ABNl9u",
        "colab": {
          "base_uri": "https://localhost:8080/"
        },
        "outputId": "67b09bea-60fe-4af7-8b9f-ac3009a9a774"
      },
      "source": [
        "#cosine similarity between principal component 1 and sepal width\n",
        "cosine_similarity(final_pca_iris['principal component 1'].to_numpy().reshape(1,-1), x_df['sepal width'].to_numpy().reshape(1,-1))[0][0]"
      ],
      "execution_count": 51,
      "outputs": [
        {
          "output_type": "execute_result",
          "data": {
            "text/plain": [
              "-0.4493129756580255"
            ]
          },
          "metadata": {
            "tags": []
          },
          "execution_count": 51
        }
      ]
    },
    {
      "cell_type": "code",
      "metadata": {
        "id": "OK0t5mZEOXVC",
        "colab": {
          "base_uri": "https://localhost:8080/"
        },
        "outputId": "9a697712-673c-4963-c9d8-c92ff45dce29"
      },
      "source": [
        "#cosine similarity between petal length and petal width\n",
        "cosine_similarity(x_df['petal length'].to_numpy().reshape(1,-1), x_df['petal width'].to_numpy().reshape(1,-1))[0][0]"
      ],
      "execution_count": 52,
      "outputs": [
        {
          "output_type": "execute_result",
          "data": {
            "text/plain": [
              "0.9627570970509661"
            ]
          },
          "metadata": {
            "tags": []
          },
          "execution_count": 52
        }
      ]
    },
    {
      "cell_type": "markdown",
      "metadata": {
        "id": "uBLtD5xdSqr3"
      },
      "source": [
        "*Which pair of features show a closer relationship to PC1 vs. the others?*\n",
        "\n",
        "Judging by the cosine similarity, petal length and width show the closest relationship to the principal component 1, since the cosine similarities between them and principal component 1 are 0.99 and 0.96 respectively (both very close to 1). In addition, the cosine similarity between petal length and petal width is 0.96 - significant similarity."
      ]
    },
    {
      "cell_type": "markdown",
      "metadata": {
        "id": "ZzN8QqJ5WXT2"
      },
      "source": [
        "Calculating the correlation coefficient between petal length and petal width and their projections onto PC1."
      ]
    },
    {
      "cell_type": "code",
      "metadata": {
        "id": "hiT3uNhbYbnM"
      },
      "source": [
        "pc_x = pd.concat([x_df, final_pca_iris[['principal component 1']]], axis = 1) \n",
        "pearson_corr = pc_x.corr(method='pearson')"
      ],
      "execution_count": 53,
      "outputs": []
    },
    {
      "cell_type": "code",
      "metadata": {
        "id": "Fbt7nC1LZw5E",
        "colab": {
          "base_uri": "https://localhost:8080/",
          "height": 204
        },
        "outputId": "8cec8ddd-4991-46ba-80ae-78331a6431a3"
      },
      "source": [
        "pearson_corr"
      ],
      "execution_count": 54,
      "outputs": [
        {
          "output_type": "execute_result",
          "data": {
            "text/html": [
              "<div>\n",
              "<style scoped>\n",
              "    .dataframe tbody tr th:only-of-type {\n",
              "        vertical-align: middle;\n",
              "    }\n",
              "\n",
              "    .dataframe tbody tr th {\n",
              "        vertical-align: top;\n",
              "    }\n",
              "\n",
              "    .dataframe thead th {\n",
              "        text-align: right;\n",
              "    }\n",
              "</style>\n",
              "<table border=\"1\" class=\"dataframe\">\n",
              "  <thead>\n",
              "    <tr style=\"text-align: right;\">\n",
              "      <th></th>\n",
              "      <th>sepal length</th>\n",
              "      <th>sepal width</th>\n",
              "      <th>petal length</th>\n",
              "      <th>petal width</th>\n",
              "      <th>principal component 1</th>\n",
              "    </tr>\n",
              "  </thead>\n",
              "  <tbody>\n",
              "    <tr>\n",
              "      <th>sepal length</th>\n",
              "      <td>1.000000</td>\n",
              "      <td>-0.109369</td>\n",
              "      <td>0.871754</td>\n",
              "      <td>0.817954</td>\n",
              "      <td>0.891224</td>\n",
              "    </tr>\n",
              "    <tr>\n",
              "      <th>sepal width</th>\n",
              "      <td>-0.109369</td>\n",
              "      <td>1.000000</td>\n",
              "      <td>-0.420516</td>\n",
              "      <td>-0.356544</td>\n",
              "      <td>-0.449313</td>\n",
              "    </tr>\n",
              "    <tr>\n",
              "      <th>petal length</th>\n",
              "      <td>0.871754</td>\n",
              "      <td>-0.420516</td>\n",
              "      <td>1.000000</td>\n",
              "      <td>0.962757</td>\n",
              "      <td>0.991684</td>\n",
              "    </tr>\n",
              "    <tr>\n",
              "      <th>petal width</th>\n",
              "      <td>0.817954</td>\n",
              "      <td>-0.356544</td>\n",
              "      <td>0.962757</td>\n",
              "      <td>1.000000</td>\n",
              "      <td>0.964996</td>\n",
              "    </tr>\n",
              "    <tr>\n",
              "      <th>principal component 1</th>\n",
              "      <td>0.891224</td>\n",
              "      <td>-0.449313</td>\n",
              "      <td>0.991684</td>\n",
              "      <td>0.964996</td>\n",
              "      <td>1.000000</td>\n",
              "    </tr>\n",
              "  </tbody>\n",
              "</table>\n",
              "</div>"
            ],
            "text/plain": [
              "                       sepal length  ...  principal component 1\n",
              "sepal length               1.000000  ...               0.891224\n",
              "sepal width               -0.109369  ...              -0.449313\n",
              "petal length               0.871754  ...               0.991684\n",
              "petal width                0.817954  ...               0.964996\n",
              "principal component 1      0.891224  ...               1.000000\n",
              "\n",
              "[5 rows x 5 columns]"
            ]
          },
          "metadata": {
            "tags": []
          },
          "execution_count": 54
        }
      ]
    },
    {
      "cell_type": "markdown",
      "metadata": {
        "id": "Jq8UvyoWaqqE"
      },
      "source": [
        "*Do the result agree with the visual inspection?*\n",
        "\n",
        "Yes, the results agree with the visual inspection, given that the correlation coefficients between petal length and width with their projections on principal component 1 are 0.99 and 0.96 respectively."
      ]
    },
    {
      "cell_type": "markdown",
      "metadata": {
        "id": "1gaFCnWEbDsW"
      },
      "source": [
        "### Problem 5"
      ]
    },
    {
      "cell_type": "markdown",
      "metadata": {
        "id": "rrZG58Osbkz7"
      },
      "source": [
        "Calculating the total variance of the original features and the total variance of the four eigenvectors from the above problem."
      ]
    },
    {
      "cell_type": "code",
      "metadata": {
        "id": "oYRZXYUobSbL",
        "colab": {
          "base_uri": "https://localhost:8080/"
        },
        "outputId": "7743a325-5214-4443-89de-aba403acdcbc"
      },
      "source": [
        "#total variance for standardized iris dataset\n",
        "np.sum(x_df.var())"
      ],
      "execution_count": 55,
      "outputs": [
        {
          "output_type": "execute_result",
          "data": {
            "text/plain": [
              "4.026845637583893"
            ]
          },
          "metadata": {
            "tags": []
          },
          "execution_count": 55
        }
      ]
    },
    {
      "cell_type": "code",
      "metadata": {
        "id": "aRovfgG9ckrH",
        "colab": {
          "base_uri": "https://localhost:8080/"
        },
        "outputId": "9a421b6e-cb7b-462f-a32b-e3e77f62f5df"
      },
      "source": [
        "#total variance for the original iris dataset\n",
        "np.sum(iris.var())"
      ],
      "execution_count": 56,
      "outputs": [
        {
          "output_type": "execute_result",
          "data": {
            "text/plain": [
              "4.5692912751677826"
            ]
          },
          "metadata": {
            "tags": []
          },
          "execution_count": 56
        }
      ]
    },
    {
      "cell_type": "code",
      "metadata": {
        "id": "-jX4E3EjdQya"
      },
      "source": [
        "#calculating 4 eigenvectors\n",
        "pca_4 = PCA(n_components=4)\n",
        "principal_components_4 = pca_4.fit_transform(x) #perform PCA\n",
        "pc4_df = pd.DataFrame(data = principal_components_4\n",
        "             , columns = ['principal component 1', 'principal component 2', 'principal component 3', 'principal component 4'])"
      ],
      "execution_count": 57,
      "outputs": []
    },
    {
      "cell_type": "code",
      "metadata": {
        "id": "4ay8UJIZdjTo",
        "colab": {
          "base_uri": "https://localhost:8080/"
        },
        "outputId": "8b74cc05-894c-44cf-db4d-5c749bb86e44"
      },
      "source": [
        "#calculating the total variance of the 4 eigenvectors\n",
        "np.sum(pc4_df.var())"
      ],
      "execution_count": 58,
      "outputs": [
        {
          "output_type": "execute_result",
          "data": {
            "text/plain": [
              "4.02684563758389"
            ]
          },
          "metadata": {
            "tags": []
          },
          "execution_count": 58
        }
      ]
    },
    {
      "cell_type": "markdown",
      "metadata": {
        "id": "wio1jx3sedWD"
      },
      "source": [
        "*What can you say about the corresponding values?*\n",
        "\n",
        "Given that PCA was calculated using the standardized version of the iris dataset, it makes sense that the total variance for the standardized dataset is equal to the total variance for the 4 eigenvectors. Let's think of variance as amount of information; in that case the 4 eigenvectors conserve the amount of information in the original features, and it makes sense because the number of eigenvectors is equal to the number of original features, hence no amount of information was subject to being lost."
      ]
    },
    {
      "cell_type": "markdown",
      "metadata": {
        "id": "9erWxfh_gT0K"
      },
      "source": [
        "*If we wished to capture > 95% of the variance of the original data, how many principal components would we be selecting?*\n"
      ]
    },
    {
      "cell_type": "code",
      "metadata": {
        "id": "pe7dFz6aeZv3",
        "colab": {
          "base_uri": "https://localhost:8080/"
        },
        "outputId": "2cb2f503-8438-4040-acb6-559091a792e0"
      },
      "source": [
        "#calculating the percentage of variance explained by each feature\n",
        "pc4_df.var()*100/np.sum(pc4_df.var())"
      ],
      "execution_count": 59,
      "outputs": [
        {
          "output_type": "execute_result",
          "data": {
            "text/plain": [
              "principal component 1    72.770452\n",
              "principal component 2    23.030523\n",
              "principal component 3     3.683832\n",
              "principal component 4     0.515193\n",
              "dtype: float64"
            ]
          },
          "metadata": {
            "tags": []
          },
          "execution_count": 59
        }
      ]
    },
    {
      "cell_type": "code",
      "metadata": {
        "id": "oya_Fsbig6YD",
        "colab": {
          "base_uri": "https://localhost:8080/"
        },
        "outputId": "fe469946-3479-4efb-9303-3dc20312aaf9"
      },
      "source": [
        "#calculating the sum of the precentage of variance explained by the first and second principal components\n",
        "72.770452 + 23.030523"
      ],
      "execution_count": 60,
      "outputs": [
        {
          "output_type": "execute_result",
          "data": {
            "text/plain": [
              "95.80097500000001"
            ]
          },
          "metadata": {
            "tags": []
          },
          "execution_count": 60
        }
      ]
    },
    {
      "cell_type": "markdown",
      "metadata": {
        "id": "jez77fsFg5SA"
      },
      "source": [
        "If we wished to capture > 95% of the variance of the original data, we would be selecting first 2 principal components, since the sum of the percentage of the variance explained by the first and second principle components is 95.8%."
      ]
    },
    {
      "cell_type": "markdown",
      "metadata": {
        "id": "2Cu_5hrIh4H-"
      },
      "source": [
        "*How does this number correspond to the number of dimensions we are reducing our features to?*\n",
        "\n",
        "By selecting 2 principle components, we are reducing our dimensionality to 2."
      ]
    }
  ]
}
